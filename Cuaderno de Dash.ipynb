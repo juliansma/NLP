{
  "cells": [
    {
      "cell_type": "markdown",
      "id": "necessary-female",
      "metadata": {
        "id": "necessary-female"
      },
      "source": [
        "# <span style=\"color:red\"><center>Cuaderno de DASH<center></span>"
      ]
    },
    {
      "cell_type": "markdown",
      "id": "athletic-hawaiian",
      "metadata": {
        "id": "athletic-hawaiian"
      },
      "source": [
        "<img src=\"http://dask.readthedocs.io/en/latest/_images/dask_horizontal.svg\"\n",
        "     align=\"right\"\n",
        "     width=\"30%\"\n",
        "     alt=\"Dask logo\\\">\n",
        "\n",
        "# Mejores prácticas  con `dask.delayed`"
      ]
    },
    {
      "cell_type": "markdown",
      "id": "apart-europe",
      "metadata": {
        "id": "apart-europe"
      },
      "source": [
        "## <span style=\"color:blue\">Llamada retrasada a la función, no al resultado</span>"
      ]
    },
    {
      "cell_type": "markdown",
      "id": "earlier-rebel",
      "metadata": {
        "id": "earlier-rebel"
      },
      "source": [
        " \n",
        " ```python\n",
        "    # This executes immediately\n",
        "    dask.delayed(f(x, y))\n",
        "    ```\n",
        " Correcto\n",
        " \n",
        " ```python\n",
        "    # This executes delayed\n",
        "    dask.delayed(f)(x, y)\n",
        "    ```\n"
      ]
    },
    {
      "cell_type": "markdown",
      "id": "familiar-sapphire",
      "metadata": {
        "id": "familiar-sapphire"
      },
      "source": [
        "## <span style=\"color:blue\">Programe muchos cálculos a la vez</span>"
      ]
    },
    {
      "cell_type": "markdown",
      "id": "usual-relevance",
      "metadata": {
        "id": "usual-relevance"
      },
      "source": [
        " \n",
        " ```python\n",
        "    # Avoid calling compute repeatedly\n",
        "    results = []\n",
        "    for x in L:\n",
        "      y = dask.delayed(f)(x)\n",
        "      results.append(y.compute())\n",
        "    results\n",
        "    ```\n",
        " Correcto\n",
        " \n",
        " ```# Collect many calls for one compute\n",
        "    results = []\n",
        "    for x in L:\n",
        "        y = dask.delayed(f)(x)\n",
        "        results.append(y)\n",
        "    results = dask.compute(*results)\n",
        "    ```\n"
      ]
    },
    {
      "cell_type": "markdown",
      "id": "thirty-christianity",
      "metadata": {
        "id": "thirty-christianity"
      },
      "source": [
        "## <span style=\"color:blue\">No modifique las entradas</span>"
      ]
    },
    {
      "cell_type": "markdown",
      "id": "architectural-buffalo",
      "metadata": {
        "id": "architectural-buffalo"
      },
      "source": [
        " \n",
        " ```python\n",
        "    # Mutate inputs in functions\n",
        "    @dask.delayed\n",
        "    def f(x):\n",
        "        x += 1\n",
        "        return x\n",
        "    ```\n",
        " Correcto\n",
        " \n",
        " ```# Return new values or copies\n",
        "    @dask.delayed\n",
        "    def f(x):\n",
        "        x = x + 1\n",
        "        return x\n",
        "   ```\n",
        "Correcto\n",
        "\n",
        " ```# \n",
        "    @dask.delayed\n",
        "    def f(x):\n",
        "        x = copy(x)\n",
        "        x += 1\n",
        "        return x\n",
        "  ```"
      ]
    },
    {
      "cell_type": "markdown",
      "id": "union-pregnancy",
      "metadata": {
        "id": "union-pregnancy"
      },
      "source": [
        "## <span style=\"color:blue\">Programe muchos cálculos a la vez</span>"
      ]
    },
    {
      "cell_type": "code",
      "execution_count": 5,
      "id": "catholic-parent",
      "metadata": {
        "id": "catholic-parent"
      },
      "outputs": [],
      "source": [
        "from time import sleep\n",
        "\n",
        "def inc(x):\n",
        "    sleep(1)\n",
        "    return x + 1\n",
        "\n",
        "def add(x, y):\n",
        "    sleep(1)\n",
        "    return x + y"
      ]
    },
    {
      "cell_type": "code",
      "source": [
        "%%time\n",
        "# This takes three seconds to run because we call each\n",
        "# function sequentially, one after the other\n",
        "\n",
        "x = inc(1)\n",
        "y = inc(2)\n",
        "z = add(x, y)"
      ],
      "metadata": {
        "id": "kqreHZZfVkf-",
        "outputId": "741139f6-037d-4c99-94db-1117b6a7d572",
        "colab": {
          "base_uri": "https://localhost:8080/"
        }
      },
      "id": "kqreHZZfVkf-",
      "execution_count": 11,
      "outputs": [
        {
          "output_type": "stream",
          "name": "stdout",
          "text": [
            "CPU times: user 174 ms, sys: 22.7 ms, total: 197 ms\n",
            "Wall time: 3 s\n"
          ]
        }
      ]
    },
    {
      "cell_type": "markdown",
      "source": [
        "Ahora vamos a usar delayer para paralelizar los procesos."
      ],
      "metadata": {
        "id": "78vjYhkPVqmy"
      },
      "id": "78vjYhkPVqmy"
    },
    {
      "cell_type": "code",
      "source": [
        "from dask import delayed"
      ],
      "metadata": {
        "id": "wEwme0SoVuP1"
      },
      "id": "wEwme0SoVuP1",
      "execution_count": 7,
      "outputs": []
    },
    {
      "cell_type": "code",
      "source": [
        "%%time\n",
        "# This runs immediately, all it does is build a graph\n",
        "\n",
        "x = delayed(inc)(1)\n",
        "y = delayed(inc)(2)\n",
        "z = delayed(add)(x, y)"
      ],
      "metadata": {
        "id": "m4TNOOn3Vv6g",
        "outputId": "db3ebbeb-ce54-4393-e1f8-6e5f96c48d7f",
        "colab": {
          "base_uri": "https://localhost:8080/"
        }
      },
      "id": "m4TNOOn3Vv6g",
      "execution_count": 13,
      "outputs": [
        {
          "output_type": "stream",
          "name": "stdout",
          "text": [
            "CPU times: user 1.21 ms, sys: 556 µs, total: 1.76 ms\n",
            "Wall time: 1.58 ms\n"
          ]
        }
      ]
    },
    {
      "cell_type": "markdown",
      "source": [
        "Sin embargo falta cargar la función computar para que haga realmente el proceso"
      ],
      "metadata": {
        "id": "lCEoTByFV37I"
      },
      "id": "lCEoTByFV37I"
    },
    {
      "cell_type": "code",
      "source": [
        "%%time\n",
        "# This actually runs our computation using a local thread pool\n",
        "\n",
        "z.compute()"
      ],
      "metadata": {
        "id": "u9zuoNlKV-hq",
        "outputId": "68660ca9-a30b-434c-af9a-5cbc97c6c22a",
        "colab": {
          "base_uri": "https://localhost:8080/"
        }
      },
      "execution_count": 15,
      "outputs": [
        {
          "output_type": "stream",
          "name": "stdout",
          "text": [
            "CPU times: user 5 µs, sys: 0 ns, total: 5 µs\n",
            "Wall time: 9.78 µs\n"
          ]
        }
      ],
      "id": "u9zuoNlKV-hq"
    },
    {
      "cell_type": "markdown",
      "id": "veterinary-serial",
      "metadata": {
        "id": "veterinary-serial"
      },
      "source": [
        "## <span style=\"color:blue\">Paralelizar un loop usando for</span>"
      ]
    },
    {
      "cell_type": "code",
      "execution_count": 17,
      "id": "particular-calvin",
      "metadata": {
        "id": "particular-calvin"
      },
      "outputs": [],
      "source": [
        "data = [1, 2, 3, 4, 5, 6, 7, 8]"
      ]
    },
    {
      "cell_type": "code",
      "source": [
        "%%time\n",
        "# Sequential code\n",
        "\n",
        "results = []\n",
        "for x in data:\n",
        "    y = inc(x)\n",
        "    results.append(y)\n",
        "    \n",
        "total = sum(results)"
      ],
      "metadata": {
        "id": "vexATOWZW-ik",
        "outputId": "820be08d-b21f-421b-e8e1-552b94c5eef4",
        "colab": {
          "base_uri": "https://localhost:8080/"
        }
      },
      "id": "vexATOWZW-ik",
      "execution_count": 18,
      "outputs": [
        {
          "output_type": "stream",
          "name": "stdout",
          "text": [
            "CPU times: user 452 ms, sys: 56.2 ms, total: 508 ms\n",
            "Wall time: 8.01 s\n"
          ]
        }
      ]
    },
    {
      "cell_type": "code",
      "source": [
        "results = []\n",
        "\n",
        "for x in data:\n",
        "    y = delayed(inc)(x)\n",
        "    results.append(y)\n",
        "    \n",
        "total = delayed(sum)(results)\n",
        "print(\"Before computing:\", total)  # Let's see what type of thing total is\n",
        "result = total.compute()\n",
        "print(\"After computing :\", result)  # After it's computed"
      ],
      "metadata": {
        "id": "Kh5KSN5pXlRE"
      },
      "id": "Kh5KSN5pXlRE",
      "execution_count": null,
      "outputs": []
    },
    {
      "cell_type": "markdown",
      "id": "mobile-ready",
      "metadata": {
        "id": "mobile-ready"
      },
      "source": [
        "## <span style=\"color:blue\">Evite efectos colaterales</span>"
      ]
    },
    {
      "cell_type": "code",
      "execution_count": null,
      "id": "minus-agency",
      "metadata": {
        "id": "minus-agency"
      },
      "outputs": [],
      "source": [
        "# Ensure delayed tasks are computed\n",
        "\n",
        "x = dask.delayed(f)(1, 2, 3)\n",
        "#...\n",
        "dask.compute(x, ...)"
      ]
    },
    {
      "cell_type": "markdown",
      "id": "corporate-trademark",
      "metadata": {
        "id": "corporate-trademark"
      },
      "source": [
        "## <span style=\"color:blue\">Divida los cálculos en muchas partes</span>"
      ]
    },
    {
      "cell_type": "code",
      "execution_count": null,
      "id": "atlantic-initial",
      "metadata": {
        "id": "atlantic-initial"
      },
      "outputs": [],
      "source": [
        "# Erróneo\n",
        "\n",
        "def load(filename):\n",
        "    ...\n",
        "\n",
        "\n",
        "def process(filename):\n",
        "    ...\n",
        "\n",
        "\n",
        "def save(filename):\n",
        "    ...\n",
        "\n",
        "@dask.delayed\n",
        "def f(filenames):\n",
        "    results = []\n",
        "    for filename in filenames:\n",
        "        data = load(filename)\n",
        "        data = process(data)\n",
        "        result = save(data)\n",
        "\n",
        "    return results\n",
        "\n",
        "dask.compute(f(filenames))"
      ]
    },
    {
      "cell_type": "code",
      "execution_count": null,
      "id": "competitive-passion",
      "metadata": {
        "id": "competitive-passion"
      },
      "outputs": [],
      "source": [
        "# Correcto\n",
        "# Break up into many tasks\n",
        "\n",
        "@dask.delayed\n",
        "def load(filename):\n",
        "    ...\n",
        "\n",
        "@dask.delayed\n",
        "def process(filename):\n",
        "    ...\n",
        "\n",
        "@dask.delayed\n",
        "def save(filename):\n",
        "    ...\n",
        "\n",
        "\n",
        "def f(filenames):\n",
        "    results = []\n",
        "    for filename in filenames:\n",
        "        data = load(filename)\n",
        "        data = process(data)\n",
        "        result = save(data)\n",
        "\n",
        "    return results\n",
        "\n",
        "dask.compute(f(filenames))"
      ]
    },
    {
      "cell_type": "markdown",
      "id": "serious-screen",
      "metadata": {
        "id": "serious-screen"
      },
      "source": [
        "## <span style=\"color:blue\">Evite demasiadas tareas retrasadas</span>"
      ]
    },
    {
      "cell_type": "markdown",
      "id": "trained-hearts",
      "metadata": {
        "id": "trained-hearts"
      },
      "source": [
        "Cada tarea retrasada tiene una sobrecarga de unos cientos de microsegundos. Por lo general, esto está bien, pero puede convertirse en un problema si aplica dask.delayed demasiado finamente. En este caso, a menudo es mejor dividir sus muchas tareas en lotes o usar una de las colecciones de Dask para ayudarlo."
      ]
    },
    {
      "cell_type": "code",
      "execution_count": null,
      "id": "intended-harvey",
      "metadata": {
        "id": "intended-harvey"
      },
      "outputs": [],
      "source": [
        "# Too many tasks\n",
        "\n",
        "results = []\n",
        "for x in range(10000000):\n",
        "    y = dask.delayed(f)(x)\n",
        "    results.append(y)\n",
        "\n",
        "    \n",
        "# Use collections\n",
        "\n",
        "import dask.bag as db\n",
        "b = db.from_sequence(range(10000000), npartitions=1000)\n",
        "b = b.map(f)\n",
        "..."
      ]
    },
    {
      "cell_type": "code",
      "execution_count": null,
      "id": "secure-islam",
      "metadata": {
        "id": "secure-islam"
      },
      "outputs": [],
      "source": [
        "# Alternativamente, sin usar bag collection\n",
        "\n",
        "def batch(seq):\n",
        "    sub_results = []\n",
        "    for x in seq:\n",
        "        sub_results.append(f(x))\n",
        "    return sub_results\n",
        "\n",
        " batches = []\n",
        " for i in range(0, 10000000, 10000):\n",
        "     result_batch = dask.delayed(batch)(range(i, i + 10000))\n",
        "     batches.append(result_batch)"
      ]
    },
    {
      "cell_type": "markdown",
      "id": "retired-antigua",
      "metadata": {
        "id": "retired-antigua"
      },
      "source": [
        "## <span style=\"color:blue\">Evite llamar delayed dentro de funciones retrasadas</span>"
      ]
    },
    {
      "cell_type": "markdown",
      "id": "confused-brooks",
      "metadata": {
        "id": "confused-brooks"
      },
      "source": [
        "A menudo, si es nuevo en el uso de Dask retrasado, realiza llamadas `dask.delayed` en todas partes y espera lo mejor. Si bien esto puede funcionar, generalmente es lento y da como resultado soluciones difíciles de entender.\n",
        "\n",
        "Por lo general, nunca llame a `dask.delayed` dentro de las funciones `dask.delayed`."
      ]
    },
    {
      "cell_type": "code",
      "execution_count": null,
      "id": "organic-assets",
      "metadata": {
        "id": "organic-assets"
      },
      "outputs": [],
      "source": [
        "# Evitar: Delayed function calls delayed\n",
        "\n",
        "@dask.delayed\n",
        "def process_all(L):\n",
        "    result = []\n",
        "    for x in L:\n",
        "        y = dask.delayed(f)(x)\n",
        "        result.append(y)\n",
        "    return result\n",
        "\n",
        "\n",
        "\n",
        "# Normal function calls delayed\n",
        "\n",
        "def process_all(L):\n",
        "    result = []\n",
        "    for x in L:\n",
        "        y = dask.delayed(f)(x)\n",
        "        result.append(y)\n",
        "    return result"
      ]
    },
    {
      "cell_type": "markdown",
      "id": "documented-scholarship",
      "metadata": {
        "id": "documented-scholarship"
      },
      "source": [
        "## <span style=\"color:blue\">No llame a dask.delayed en otras colecciones de Dask</span>"
      ]
    },
    {
      "cell_type": "markdown",
      "id": "wireless-starter",
      "metadata": {
        "id": "wireless-starter"
      },
      "source": [
        "Cuando coloca una matriz Dask o Dask DataFrame en una llamada retrasada, esa función recibirá el equivalente de NumPy o Pandas. \n",
        "\n",
        "Tenga en cuenta que si su matriz es grande, esto podría bloquear a sus trabajadores.\n",
        "\n",
        "En cambio, es más común usar métodos como `da.map_blocks`."
      ]
    },
    {
      "cell_type": "code",
      "execution_count": null,
      "id": "scientific-comfort",
      "metadata": {
        "id": "scientific-comfort"
      },
      "outputs": [],
      "source": [
        "# Incorrecto: Call delayed functions on Dask collections\n",
        "\n",
        "import dask.dataframe as dd\n",
        "df = dd.read_csv('/path/to/*.csv')\n",
        "\n",
        "dask.delayed(train)(df)\n",
        "\n",
        "#Correcto:  Use mapping methods if applicable\n",
        "\n",
        "import dask.dataframe as dd\n",
        "df = dd.read_csv('/path/to/*.csv')\n",
        "\n",
        "df.map_partitions(train)\n",
        "\n",
        "# O alternativamente,if the procedure doesn’t fit into a mapping, \n",
        "# you can always turn your arrays or dataframes into many delayed objects, for example\n",
        "\n",
        "import dask.dataframe as dd\n",
        "df = dd.read_csv('/path/to/*.csv')\n",
        "                 \n",
        "partitions = df.to_delayed()\n",
        "delayed_values = [dask.delayed(train)(part)\n",
        "                  for part in partitions]"
      ]
    },
    {
      "cell_type": "markdown",
      "id": "usual-riverside",
      "metadata": {
        "id": "usual-riverside"
      },
      "source": [
        "## <span style=\"color:blue\">Evite poner repetidamente grandes entradas en llamadas retrasadas</span>"
      ]
    },
    {
      "cell_type": "markdown",
      "id": "regulation-pennsylvania",
      "metadata": {
        "id": "regulation-pennsylvania"
      },
      "source": [
        "Cada vez que pase un resultado concreto (cualquier cosa que no se retrase), Dask lo codificará de forma predeterminada para darle un nombre. Esto es bastante rápido (alrededor de 500 MB / s) pero puede ser lento si lo hace una y otra vez. En cambio, también es mejor retrasar sus datos.\n",
        "\n",
        "Esto es especialmente importante cuando se usa un clúster distribuido para evitar enviar sus datos por separado para cada llamada de función."
      ]
    },
    {
      "cell_type": "code",
      "execution_count": null,
      "id": "automatic-bobby",
      "metadata": {
        "id": "automatic-bobby"
      },
      "outputs": [],
      "source": [
        "# No haga esto\n",
        "\n",
        "x = np.array(...)  # some large array\n",
        "\n",
        "results = [dask.delayed(train)(x, i)\n",
        "           for i in range(1000)]\n",
        "\n",
        "# En su lugar haga esto\n",
        "\n",
        "x = np.array(...)    # some large array\n",
        "x = dask.delayed(x)  # delay the data once\n",
        "\n",
        "results = [dask.delayed(train)(x, i)\n",
        "           for i in range(1000)]"
      ]
    }
  ],
  "metadata": {
    "kernelspec": {
      "display_name": "Python 3",
      "language": "python",
      "name": "python3"
    },
    "language_info": {
      "codemirror_mode": {
        "name": "ipython",
        "version": 3
      },
      "file_extension": ".py",
      "mimetype": "text/x-python",
      "name": "python",
      "nbconvert_exporter": "python",
      "pygments_lexer": "ipython3",
      "version": "3.8.8"
    },
    "colab": {
      "name": "01_dask_Mejores_Practicas.ipynb",
      "provenance": []
    }
  },
  "nbformat": 4,
  "nbformat_minor": 5
}