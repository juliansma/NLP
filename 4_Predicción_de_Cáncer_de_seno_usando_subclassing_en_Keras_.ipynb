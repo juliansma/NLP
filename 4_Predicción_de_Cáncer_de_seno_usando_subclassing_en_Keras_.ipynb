{
  "cells": [
    {
      "cell_type": "markdown",
      "metadata": {
        "id": "view-in-github",
        "colab_type": "text"
      },
      "source": [
        "<a href=\"https://colab.research.google.com/github/juliansma/NLP/blob/main/4_Predicci%C3%B3n_de_C%C3%A1ncer_de_seno_usando_subclassing_en_Keras_.ipynb\" target=\"_parent\"><img src=\"https://colab.research.google.com/assets/colab-badge.svg\" alt=\"Open In Colab\"/></a>"
      ]
    },
    {
      "cell_type": "markdown",
      "metadata": {
        "id": "yOUjuYE1TAHv"
      },
      "source": [
        "# <span style=\"color:red\"><center>  4. Predicción de Cáncer de seno usando subclassing en Keras.</center></span>"
      ]
    },
    {
      "cell_type": "markdown",
      "metadata": {
        "id": "9MDrrWzfTAHx"
      },
      "source": [
        "Julián Santiago Martínez"
      ]
    },
    {
      "cell_type": "markdown",
      "metadata": {
        "id": "yekapGmgTAH2"
      },
      "source": [
        "## <span style=\"color:blue\">Importa módulos</span>"
      ]
    },
    {
      "cell_type": "code",
      "execution_count": null,
      "metadata": {
        "id": "xkDn0A2gTAH4"
      },
      "outputs": [],
      "source": [
        "try:\n",
        "  %tensorflow_version 2.x\n",
        "except Exception:\n",
        "  pass"
      ]
    },
    {
      "cell_type": "code",
      "execution_count": null,
      "metadata": {
        "id": "B_ImFrO1TAH8",
        "outputId": "ddbae70b-239b-492b-fee1-b4ed4c3faf1a",
        "colab": {
          "base_uri": "https://localhost:8080/"
        }
      },
      "outputs": [
        {
          "output_type": "stream",
          "name": "stdout",
          "text": [
            "2.8.0\n"
          ]
        }
      ],
      "source": [
        "from __future__ import absolute_import, division, print_function, unicode_literals\n",
        "#\n",
        "import pandas as pd\n",
        "import matplotlib.pyplot as plt\n",
        "import seaborn as sns\n",
        "import tensorflow as tf\n",
        "#\n",
        "from tensorflow.keras.models import Sequential\n",
        "#\n",
        "from tensorflow.keras.layers import Dense, Dropout\n",
        "#\n",
        "from tensorflow.keras.utils import plot_model\n",
        "#\n",
        "from sklearn.preprocessing import LabelEncoder\n",
        "from sklearn.model_selection import train_test_split\n",
        "from sklearn.preprocessing import StandardScaler\n",
        "from sklearn.metrics import confusion_matrix\n",
        "#\n",
        "print(tf.__version__)"
      ]
    },
    {
      "cell_type": "markdown",
      "metadata": {
        "id": "HKIQVDxTTAIE"
      },
      "source": [
        "### Meta-información sobre los datos"
      ]
    },
    {
      "cell_type": "markdown",
      "metadata": {
        "id": "QOse5i_OTAIE"
      },
      "source": [
        "\n",
        "1. ID number\n",
        "2. Diagnosis (M = maligno, B = benigno) \n",
        "\n",
        "Se calculan diez características de valor real para cada núcleo celular:\n",
        "\n",
        "  - radius (media de las distancias desde el centro a los puntos del perímetro) \n",
        "  - texture (desviación estándar de los valores de la escala de grises) \n",
        "  - perimeter\n",
        "  - area\n",
        "  - smoothness (variación local en las longitudes de los radios)\n",
        "  - compactness (perímetro ^ 2 / área - 1.0) \n",
        "  - concavity (severidad de las porciones cóncavas del contorno) \n",
        "  - concave points (número de porciones cóncavas del contorno) \n",
        "  - symetry \n",
        "  - fractal dimension (\"aproximación de la línea de costa\"\n",
        " \n",
        "La media, el error estándar y el \"peor\" o el mayor (la media de los tres valores más grandes) de estas características se calcularon para cada imagen, lo que resultó en 30 características. Por ejemplo, el campo 3 es Radio medio, el campo 13 es Radio SE, el campo 23 es Peor radio.\n",
        "\n",
        "Todos los valores de las características se recodifican con cuatro dígitos significativos.\n",
        "\n",
        "datos faltantes: ninguno\n",
        "\n",
        "Distribución de clases: 357 benignos, 212 malignos\n",
        "\n",
        "\n"
      ]
    },
    {
      "cell_type": "markdown",
      "metadata": {
        "id": "eZyDU-zQTAIF"
      },
      "source": [
        "## <span style=\"color:blue\">Lectura de datos</span>"
      ]
    },
    {
      "cell_type": "markdown",
      "metadata": {
        "id": "8TW8wouTTAIF"
      },
      "source": [
        "### Separa entrada (features) y salida "
      ]
    },
    {
      "cell_type": "code",
      "execution_count": null,
      "metadata": {
        "id": "eDDVMaXxTAIG"
      },
      "outputs": [],
      "source": [
        "# Importing data\n",
        "\n",
        "data = pd.read_csv('data.csv')\n",
        "del data['Unnamed: 32']"
      ]
    },
    {
      "cell_type": "markdown",
      "metadata": {
        "id": "cOwrr50mTAIG"
      },
      "source": [
        "## <span style=\"color:blue\">Preprocesamiento</span>"
      ]
    },
    {
      "cell_type": "code",
      "execution_count": null,
      "metadata": {
        "id": "rsEtjvXRTAIG"
      },
      "outputs": [],
      "source": [
        "x = data.iloc[:,2:].values # extrae como arreglos numpy\n",
        "y = data.iloc[:,1].values"
      ]
    },
    {
      "cell_type": "markdown",
      "metadata": {
        "id": "w5a3r36BTAIH"
      },
      "source": [
        "### Recodifica la variable objetivo"
      ]
    },
    {
      "cell_type": "code",
      "execution_count": null,
      "metadata": {
        "id": "P-tiO3VzTAIH"
      },
      "outputs": [],
      "source": [
        "labelencoder_y = LabelEncoder()\n",
        "y = labelencoder_y.fit_transform(y)"
      ]
    },
    {
      "cell_type": "markdown",
      "metadata": {
        "id": "JVYmMTyNTAII"
      },
      "source": [
        "### Divide los datos. Entrenamiento y test"
      ]
    },
    {
      "cell_type": "code",
      "execution_count": null,
      "metadata": {
        "id": "LiJf7NDRTAII"
      },
      "outputs": [],
      "source": [
        "x_train, x_test, y_train, y_test = train_test_split(x, y, test_size = 0.1, random_state = 0)\n"
      ]
    },
    {
      "cell_type": "code",
      "execution_count": null,
      "metadata": {
        "id": "Oiqef3scTAII",
        "outputId": "9283e09a-771a-489d-dc13-4f3700967390",
        "colab": {
          "base_uri": "https://localhost:8080/"
        }
      },
      "outputs": [
        {
          "output_type": "execute_result",
          "data": {
            "text/plain": [
              "(57, 30)"
            ]
          },
          "metadata": {},
          "execution_count": 14
        }
      ],
      "source": [
        "x_test.shape"
      ]
    },
    {
      "cell_type": "markdown",
      "metadata": {
        "id": "hOigSg3ETAIJ"
      },
      "source": [
        "### Normaliza los datos"
      ]
    },
    {
      "cell_type": "code",
      "execution_count": null,
      "metadata": {
        "id": "Z_tsJnH0TAIJ"
      },
      "outputs": [],
      "source": [
        "sc = StandardScaler()\n",
        "x_train = sc.fit_transform(x_train)\n",
        "x_test = sc.transform(x_test)"
      ]
    },
    {
      "cell_type": "markdown",
      "metadata": {
        "id": "VTVj7kPFTAIJ"
      },
      "source": [
        "## <span style=\"color:blue\">Crea el modelo Sequential modo 2</span>"
      ]
    },
    {
      "cell_type": "code",
      "execution_count": null,
      "metadata": {
        "id": "mtKpKSK_TAIK"
      },
      "outputs": [],
      "source": [
        "classifier = Sequential()\n",
        "## Adiciona capas una por una\n",
        "classifier.add(Dense(units=16, activation='relu', input_shape=(30,)))\n",
        "# Adding dropout to prevent overfitting (regularización)\n",
        "classifier.add(Dropout(0.1)) # 10% out in each epoc\n",
        "classifier.add(Dense(units=16, activation='relu'))\n",
        "# Adding dropout to prevent overfitting (regularización)\n",
        "classifier.add(Dropout(0.1))\n",
        "classifier.add(Dense(units=1, activation='sigmoid'))\n"
      ]
    },
    {
      "cell_type": "markdown",
      "metadata": {
        "id": "qqWDqqlBTAIK"
      },
      "source": [
        "## <span style=\"color:blue\">Compila</span>"
      ]
    },
    {
      "cell_type": "code",
      "execution_count": null,
      "metadata": {
        "id": "TDoCl95MTAIL"
      },
      "outputs": [],
      "source": [
        "classifier.compile(optimizer='adam', loss='binary_crossentropy', metrics=['accuracy'])"
      ]
    },
    {
      "cell_type": "code",
      "execution_count": null,
      "metadata": {
        "id": "PFFuQXtNTAIL",
        "outputId": "bb2f6241-5221-4422-e89b-d12b21a9a2cc",
        "colab": {
          "base_uri": "https://localhost:8080/",
          "height": 994
        }
      },
      "outputs": [
        {
          "output_type": "stream",
          "name": "stdout",
          "text": [
            "Model: \"sequential\"\n",
            "_________________________________________________________________\n",
            " Layer (type)                Output Shape              Param #   \n",
            "=================================================================\n",
            " dense (Dense)               (None, 16)                496       \n",
            "                                                                 \n",
            " dropout (Dropout)           (None, 16)                0         \n",
            "                                                                 \n",
            " dense_1 (Dense)             (None, 16)                272       \n",
            "                                                                 \n",
            " dropout_1 (Dropout)         (None, 16)                0         \n",
            "                                                                 \n",
            " dense_2 (Dense)             (None, 1)                 17        \n",
            "                                                                 \n",
            "=================================================================\n",
            "Total params: 785\n",
            "Trainable params: 785\n",
            "Non-trainable params: 0\n",
            "_________________________________________________________________\n"
          ]
        },
        {
          "output_type": "execute_result",
          "data": {
            "text/plain": [
              "<IPython.core.display.Image object>"
            ],
            "image/png": "[encoded data removed]"
          },
          "metadata": {},
          "execution_count": 19
        }
      ],
      "source": [
        "classifier.summary()\n",
        "plot_model(classifier, \n",
        "           show_shapes=True)"
      ]
    },
    {
      "cell_type": "markdown",
      "metadata": {
        "id": "JvQavoDdTAIM"
      },
      "source": [
        "## <span style=\"color:blue\">Entrenamiento</span>"
      ]
    },
    {
      "cell_type": "code",
      "execution_count": null,
      "metadata": {
        "id": "JoewDso-TAIM",
        "outputId": "04df0167-f0d9-4250-ca6f-befbc34a561a",
        "colab": {
          "base_uri": "https://localhost:8080/"
        }
      },
      "outputs": [
        {
          "output_type": "stream",
          "name": "stdout",
          "text": [
            "Epoch 1/150\n",
            "13/13 [==============================] - 1s 19ms/step - loss: 0.6856 - accuracy: 0.5892 - val_loss: 0.5679 - val_accuracy: 0.7670\n",
            "Epoch 2/150\n",
            "13/13 [==============================] - 0s 4ms/step - loss: 0.5453 - accuracy: 0.7775 - val_loss: 0.4449 - val_accuracy: 0.8738\n",
            "Epoch 3/150\n",
            "13/13 [==============================] - 0s 5ms/step - loss: 0.4514 - accuracy: 0.8631 - val_loss: 0.3635 - val_accuracy: 0.9029\n",
            "Epoch 4/150\n",
            "13/13 [==============================] - 0s 4ms/step - loss: 0.3944 - accuracy: 0.8924 - val_loss: 0.3049 - val_accuracy: 0.9515\n",
            "Epoch 5/150\n",
            "13/13 [==============================] - 0s 5ms/step - loss: 0.3270 - accuracy: 0.9095 - val_loss: 0.2563 - val_accuracy: 0.9515\n",
            "Epoch 6/150\n",
            "13/13 [==============================] - 0s 6ms/step - loss: 0.2751 - accuracy: 0.9242 - val_loss: 0.2180 - val_accuracy: 0.9612\n",
            "Epoch 7/150\n",
            "13/13 [==============================] - 0s 5ms/step - loss: 0.2395 - accuracy: 0.9242 - val_loss: 0.1868 - val_accuracy: 0.9709\n",
            "Epoch 8/150\n",
            "13/13 [==============================] - 0s 6ms/step - loss: 0.2194 - accuracy: 0.9218 - val_loss: 0.1637 - val_accuracy: 0.9709\n",
            "Epoch 9/150\n",
            "13/13 [==============================] - 0s 6ms/step - loss: 0.1947 - accuracy: 0.9267 - val_loss: 0.1453 - val_accuracy: 0.9709\n",
            "Epoch 10/150\n",
            "13/13 [==============================] - 0s 4ms/step - loss: 0.1758 - accuracy: 0.9389 - val_loss: 0.1312 - val_accuracy: 0.9806\n",
            "Epoch 11/150\n",
            "13/13 [==============================] - 0s 5ms/step - loss: 0.1776 - accuracy: 0.9242 - val_loss: 0.1203 - val_accuracy: 0.9806\n",
            "Epoch 12/150\n",
            "13/13 [==============================] - 0s 4ms/step - loss: 0.1566 - accuracy: 0.9389 - val_loss: 0.1104 - val_accuracy: 0.9806\n",
            "Epoch 13/150\n",
            "13/13 [==============================] - 0s 6ms/step - loss: 0.1484 - accuracy: 0.9413 - val_loss: 0.1022 - val_accuracy: 0.9709\n",
            "Epoch 14/150\n",
            "13/13 [==============================] - 0s 5ms/step - loss: 0.1287 - accuracy: 0.9560 - val_loss: 0.0956 - val_accuracy: 0.9709\n",
            "Epoch 15/150\n",
            "13/13 [==============================] - 0s 5ms/step - loss: 0.1205 - accuracy: 0.9535 - val_loss: 0.0906 - val_accuracy: 0.9709\n",
            "Epoch 16/150\n",
            "13/13 [==============================] - 0s 4ms/step - loss: 0.1126 - accuracy: 0.9633 - val_loss: 0.0862 - val_accuracy: 0.9709\n",
            "Epoch 17/150\n",
            "13/13 [==============================] - 0s 5ms/step - loss: 0.1063 - accuracy: 0.9609 - val_loss: 0.0823 - val_accuracy: 0.9709\n",
            "Epoch 18/150\n",
            "13/13 [==============================] - 0s 6ms/step - loss: 0.1038 - accuracy: 0.9633 - val_loss: 0.0791 - val_accuracy: 0.9806\n",
            "Epoch 19/150\n",
            "13/13 [==============================] - 0s 5ms/step - loss: 0.1091 - accuracy: 0.9584 - val_loss: 0.0764 - val_accuracy: 0.9806\n",
            "Epoch 20/150\n",
            "13/13 [==============================] - 0s 5ms/step - loss: 0.1148 - accuracy: 0.9609 - val_loss: 0.0732 - val_accuracy: 0.9806\n",
            "Epoch 21/150\n",
            "13/13 [==============================] - 0s 4ms/step - loss: 0.0906 - accuracy: 0.9707 - val_loss: 0.0711 - val_accuracy: 0.9806\n",
            "Epoch 22/150\n",
            "13/13 [==============================] - 0s 5ms/step - loss: 0.1037 - accuracy: 0.9609 - val_loss: 0.0682 - val_accuracy: 0.9806\n",
            "Epoch 23/150\n",
            "13/13 [==============================] - 0s 5ms/step - loss: 0.0921 - accuracy: 0.9682 - val_loss: 0.0658 - val_accuracy: 0.9806\n",
            "Epoch 24/150\n",
            "13/13 [==============================] - 0s 4ms/step - loss: 0.0953 - accuracy: 0.9633 - val_loss: 0.0633 - val_accuracy: 0.9806\n",
            "Epoch 25/150\n",
            "13/13 [==============================] - 0s 4ms/step - loss: 0.0843 - accuracy: 0.9707 - val_loss: 0.0623 - val_accuracy: 0.9806\n",
            "Epoch 26/150\n",
            "13/13 [==============================] - 0s 5ms/step - loss: 0.0809 - accuracy: 0.9731 - val_loss: 0.0604 - val_accuracy: 0.9806\n",
            "Epoch 27/150\n",
            "13/13 [==============================] - 0s 5ms/step - loss: 0.0791 - accuracy: 0.9756 - val_loss: 0.0596 - val_accuracy: 0.9806\n",
            "Epoch 28/150\n",
            "13/13 [==============================] - 0s 5ms/step - loss: 0.0889 - accuracy: 0.9658 - val_loss: 0.0583 - val_accuracy: 0.9806\n",
            "Epoch 29/150\n",
            "13/13 [==============================] - 0s 4ms/step - loss: 0.0855 - accuracy: 0.9756 - val_loss: 0.0559 - val_accuracy: 0.9903\n",
            "Epoch 30/150\n",
            "13/13 [==============================] - 0s 6ms/step - loss: 0.0747 - accuracy: 0.9756 - val_loss: 0.0546 - val_accuracy: 0.9903\n",
            "Epoch 31/150\n",
            "13/13 [==============================] - 0s 4ms/step - loss: 0.0750 - accuracy: 0.9780 - val_loss: 0.0538 - val_accuracy: 0.9903\n",
            "Epoch 32/150\n",
            "13/13 [==============================] - 0s 4ms/step - loss: 0.0777 - accuracy: 0.9804 - val_loss: 0.0528 - val_accuracy: 0.9903\n",
            "Epoch 33/150\n",
            "13/13 [==============================] - 0s 5ms/step - loss: 0.0768 - accuracy: 0.9780 - val_loss: 0.0521 - val_accuracy: 0.9903\n",
            "Epoch 34/150\n",
            "13/13 [==============================] - 0s 5ms/step - loss: 0.0733 - accuracy: 0.9682 - val_loss: 0.0501 - val_accuracy: 0.9903\n",
            "Epoch 35/150\n",
            "13/13 [==============================] - 0s 5ms/step - loss: 0.0625 - accuracy: 0.9853 - val_loss: 0.0488 - val_accuracy: 0.9903\n",
            "Epoch 36/150\n",
            "13/13 [==============================] - 0s 4ms/step - loss: 0.0704 - accuracy: 0.9756 - val_loss: 0.0492 - val_accuracy: 0.9903\n",
            "Epoch 37/150\n",
            "13/13 [==============================] - 0s 5ms/step - loss: 0.0775 - accuracy: 0.9756 - val_loss: 0.0496 - val_accuracy: 0.9903\n",
            "Epoch 38/150\n",
            "13/13 [==============================] - 0s 6ms/step - loss: 0.0647 - accuracy: 0.9804 - val_loss: 0.0489 - val_accuracy: 0.9903\n",
            "Epoch 39/150\n",
            "13/13 [==============================] - 0s 4ms/step - loss: 0.0741 - accuracy: 0.9756 - val_loss: 0.0466 - val_accuracy: 0.9903\n",
            "Epoch 40/150\n",
            "13/13 [==============================] - 0s 4ms/step - loss: 0.0648 - accuracy: 0.9829 - val_loss: 0.0465 - val_accuracy: 0.9903\n",
            "Epoch 41/150\n",
            "13/13 [==============================] - 0s 5ms/step - loss: 0.0642 - accuracy: 0.9780 - val_loss: 0.0440 - val_accuracy: 0.9903\n",
            "Epoch 42/150\n",
            "13/13 [==============================] - 0s 4ms/step - loss: 0.0653 - accuracy: 0.9780 - val_loss: 0.0436 - val_accuracy: 0.9903\n",
            "Epoch 43/150\n",
            "13/13 [==============================] - 0s 4ms/step - loss: 0.0596 - accuracy: 0.9756 - val_loss: 0.0437 - val_accuracy: 0.9903\n",
            "Epoch 44/150\n",
            "13/13 [==============================] - 0s 4ms/step - loss: 0.0795 - accuracy: 0.9780 - val_loss: 0.0428 - val_accuracy: 0.9903\n",
            "Epoch 45/150\n",
            "13/13 [==============================] - 0s 5ms/step - loss: 0.0733 - accuracy: 0.9756 - val_loss: 0.0441 - val_accuracy: 0.9903\n",
            "Epoch 46/150\n",
            "13/13 [==============================] - 0s 6ms/step - loss: 0.0576 - accuracy: 0.9829 - val_loss: 0.0436 - val_accuracy: 0.9903\n",
            "Epoch 47/150\n",
            "13/13 [==============================] - 0s 7ms/step - loss: 0.0502 - accuracy: 0.9853 - val_loss: 0.0427 - val_accuracy: 0.9903\n",
            "Epoch 48/150\n",
            "13/13 [==============================] - 0s 4ms/step - loss: 0.0559 - accuracy: 0.9804 - val_loss: 0.0413 - val_accuracy: 0.9903\n",
            "Epoch 49/150\n",
            "13/13 [==============================] - 0s 5ms/step - loss: 0.0692 - accuracy: 0.9780 - val_loss: 0.0408 - val_accuracy: 0.9903\n",
            "Epoch 50/150\n",
            "13/13 [==============================] - 0s 6ms/step - loss: 0.0527 - accuracy: 0.9829 - val_loss: 0.0415 - val_accuracy: 0.9903\n",
            "Epoch 51/150\n",
            "13/13 [==============================] - 0s 4ms/step - loss: 0.0509 - accuracy: 0.9853 - val_loss: 0.0423 - val_accuracy: 0.9903\n",
            "Epoch 52/150\n",
            "13/13 [==============================] - 0s 7ms/step - loss: 0.0518 - accuracy: 0.9853 - val_loss: 0.0418 - val_accuracy: 0.9903\n",
            "Epoch 53/150\n",
            "13/13 [==============================] - 0s 6ms/step - loss: 0.0510 - accuracy: 0.9829 - val_loss: 0.0435 - val_accuracy: 0.9903\n",
            "Epoch 54/150\n",
            "13/13 [==============================] - 0s 5ms/step - loss: 0.0555 - accuracy: 0.9804 - val_loss: 0.0423 - val_accuracy: 0.9903\n",
            "Epoch 55/150\n",
            "13/13 [==============================] - 0s 4ms/step - loss: 0.0505 - accuracy: 0.9804 - val_loss: 0.0406 - val_accuracy: 0.9903\n",
            "Epoch 56/150\n",
            "13/13 [==============================] - 0s 5ms/step - loss: 0.0524 - accuracy: 0.9780 - val_loss: 0.0406 - val_accuracy: 0.9903\n",
            "Epoch 57/150\n",
            "13/13 [==============================] - 0s 6ms/step - loss: 0.0570 - accuracy: 0.9780 - val_loss: 0.0402 - val_accuracy: 0.9903\n",
            "Epoch 58/150\n",
            "13/13 [==============================] - 0s 5ms/step - loss: 0.0523 - accuracy: 0.9829 - val_loss: 0.0390 - val_accuracy: 0.9903\n",
            "Epoch 59/150\n",
            "13/13 [==============================] - 0s 5ms/step - loss: 0.0453 - accuracy: 0.9829 - val_loss: 0.0392 - val_accuracy: 0.9903\n",
            "Epoch 60/150\n",
            "13/13 [==============================] - 0s 5ms/step - loss: 0.0457 - accuracy: 0.9878 - val_loss: 0.0405 - val_accuracy: 0.9903\n",
            "Epoch 61/150\n",
            "13/13 [==============================] - 0s 4ms/step - loss: 0.0481 - accuracy: 0.9829 - val_loss: 0.0389 - val_accuracy: 0.9903\n",
            "Epoch 62/150\n",
            "13/13 [==============================] - 0s 6ms/step - loss: 0.0428 - accuracy: 0.9804 - val_loss: 0.0388 - val_accuracy: 0.9903\n",
            "Epoch 63/150\n",
            "13/13 [==============================] - 0s 5ms/step - loss: 0.0478 - accuracy: 0.9878 - val_loss: 0.0370 - val_accuracy: 0.9903\n",
            "Epoch 64/150\n",
            "13/13 [==============================] - 0s 6ms/step - loss: 0.0486 - accuracy: 0.9878 - val_loss: 0.0362 - val_accuracy: 0.9903\n",
            "Epoch 65/150\n",
            "13/13 [==============================] - 0s 6ms/step - loss: 0.0381 - accuracy: 0.9878 - val_loss: 0.0369 - val_accuracy: 0.9903\n",
            "Epoch 66/150\n",
            "13/13 [==============================] - 0s 4ms/step - loss: 0.0448 - accuracy: 0.9829 - val_loss: 0.0373 - val_accuracy: 0.9903\n",
            "Epoch 67/150\n",
            "13/13 [==============================] - 0s 4ms/step - loss: 0.0378 - accuracy: 0.9878 - val_loss: 0.0362 - val_accuracy: 0.9903\n",
            "Epoch 68/150\n",
            "13/13 [==============================] - 0s 6ms/step - loss: 0.0440 - accuracy: 0.9829 - val_loss: 0.0374 - val_accuracy: 0.9903\n",
            "Epoch 69/150\n",
            "13/13 [==============================] - 0s 4ms/step - loss: 0.0393 - accuracy: 0.9902 - val_loss: 0.0373 - val_accuracy: 0.9903\n",
            "Epoch 70/150\n",
            "13/13 [==============================] - 0s 4ms/step - loss: 0.0452 - accuracy: 0.9878 - val_loss: 0.0363 - val_accuracy: 0.9903\n",
            "Epoch 71/150\n",
            "13/13 [==============================] - 0s 4ms/step - loss: 0.0382 - accuracy: 0.9902 - val_loss: 0.0358 - val_accuracy: 0.9903\n",
            "Epoch 72/150\n",
            "13/13 [==============================] - 0s 4ms/step - loss: 0.0296 - accuracy: 0.9902 - val_loss: 0.0343 - val_accuracy: 0.9903\n",
            "Epoch 73/150\n",
            "13/13 [==============================] - 0s 4ms/step - loss: 0.0473 - accuracy: 0.9853 - val_loss: 0.0349 - val_accuracy: 0.9903\n",
            "Epoch 74/150\n",
            "13/13 [==============================] - 0s 6ms/step - loss: 0.0453 - accuracy: 0.9804 - val_loss: 0.0340 - val_accuracy: 0.9903\n",
            "Epoch 75/150\n",
            "13/13 [==============================] - 0s 5ms/step - loss: 0.0448 - accuracy: 0.9878 - val_loss: 0.0348 - val_accuracy: 0.9903\n",
            "Epoch 76/150\n",
            "13/13 [==============================] - 0s 5ms/step - loss: 0.0355 - accuracy: 0.9878 - val_loss: 0.0360 - val_accuracy: 0.9903\n",
            "Epoch 77/150\n",
            "13/13 [==============================] - 0s 4ms/step - loss: 0.0489 - accuracy: 0.9829 - val_loss: 0.0353 - val_accuracy: 0.9903\n",
            "Epoch 78/150\n",
            "13/13 [==============================] - 0s 5ms/step - loss: 0.0451 - accuracy: 0.9804 - val_loss: 0.0357 - val_accuracy: 0.9903\n",
            "Epoch 79/150\n",
            "13/13 [==============================] - 0s 4ms/step - loss: 0.0385 - accuracy: 0.9829 - val_loss: 0.0390 - val_accuracy: 0.9806\n",
            "Epoch 80/150\n",
            "13/13 [==============================] - 0s 5ms/step - loss: 0.0424 - accuracy: 0.9829 - val_loss: 0.0385 - val_accuracy: 0.9903\n",
            "Epoch 81/150\n",
            "13/13 [==============================] - 0s 4ms/step - loss: 0.0288 - accuracy: 0.9902 - val_loss: 0.0379 - val_accuracy: 0.9903\n",
            "Epoch 82/150\n",
            "13/13 [==============================] - 0s 6ms/step - loss: 0.0304 - accuracy: 0.9878 - val_loss: 0.0366 - val_accuracy: 0.9903\n",
            "Epoch 83/150\n",
            "13/13 [==============================] - 0s 5ms/step - loss: 0.0348 - accuracy: 0.9853 - val_loss: 0.0360 - val_accuracy: 0.9903\n",
            "Epoch 84/150\n",
            "13/13 [==============================] - 0s 5ms/step - loss: 0.0320 - accuracy: 0.9927 - val_loss: 0.0358 - val_accuracy: 0.9903\n",
            "Epoch 85/150\n",
            "13/13 [==============================] - 0s 4ms/step - loss: 0.0339 - accuracy: 0.9878 - val_loss: 0.0343 - val_accuracy: 0.9903\n",
            "Epoch 86/150\n",
            "13/13 [==============================] - 0s 5ms/step - loss: 0.0395 - accuracy: 0.9853 - val_loss: 0.0344 - val_accuracy: 0.9903\n",
            "Epoch 87/150\n",
            "13/13 [==============================] - 0s 6ms/step - loss: 0.0371 - accuracy: 0.9902 - val_loss: 0.0367 - val_accuracy: 0.9806\n",
            "Epoch 88/150\n",
            "13/13 [==============================] - 0s 5ms/step - loss: 0.0241 - accuracy: 0.9927 - val_loss: 0.0353 - val_accuracy: 0.9903\n",
            "Epoch 89/150\n",
            "13/13 [==============================] - 0s 4ms/step - loss: 0.0301 - accuracy: 0.9927 - val_loss: 0.0347 - val_accuracy: 0.9903\n",
            "Epoch 90/150\n",
            "13/13 [==============================] - 0s 5ms/step - loss: 0.0261 - accuracy: 0.9902 - val_loss: 0.0349 - val_accuracy: 0.9903\n",
            "Epoch 91/150\n",
            "13/13 [==============================] - 0s 4ms/step - loss: 0.0366 - accuracy: 0.9853 - val_loss: 0.0352 - val_accuracy: 0.9903\n",
            "Epoch 92/150\n",
            "13/13 [==============================] - 0s 4ms/step - loss: 0.0351 - accuracy: 0.9878 - val_loss: 0.0357 - val_accuracy: 0.9903\n",
            "Epoch 93/150\n",
            "13/13 [==============================] - 0s 5ms/step - loss: 0.0278 - accuracy: 0.9878 - val_loss: 0.0338 - val_accuracy: 0.9903\n",
            "Epoch 94/150\n",
            "13/13 [==============================] - 0s 4ms/step - loss: 0.0378 - accuracy: 0.9804 - val_loss: 0.0325 - val_accuracy: 0.9903\n",
            "Epoch 95/150\n",
            "13/13 [==============================] - 0s 4ms/step - loss: 0.0278 - accuracy: 0.9878 - val_loss: 0.0343 - val_accuracy: 0.9903\n",
            "Epoch 96/150\n",
            "13/13 [==============================] - 0s 4ms/step - loss: 0.0368 - accuracy: 0.9829 - val_loss: 0.0327 - val_accuracy: 0.9903\n",
            "Epoch 97/150\n",
            "13/13 [==============================] - 0s 4ms/step - loss: 0.0205 - accuracy: 0.9927 - val_loss: 0.0312 - val_accuracy: 0.9903\n",
            "Epoch 98/150\n",
            "13/13 [==============================] - 0s 5ms/step - loss: 0.0377 - accuracy: 0.9853 - val_loss: 0.0285 - val_accuracy: 0.9903\n",
            "Epoch 99/150\n",
            "13/13 [==============================] - 0s 6ms/step - loss: 0.0299 - accuracy: 0.9902 - val_loss: 0.0288 - val_accuracy: 0.9903\n",
            "Epoch 100/150\n",
            "13/13 [==============================] - 0s 4ms/step - loss: 0.0290 - accuracy: 0.9878 - val_loss: 0.0286 - val_accuracy: 0.9903\n",
            "Epoch 101/150\n",
            "13/13 [==============================] - 0s 4ms/step - loss: 0.0290 - accuracy: 0.9902 - val_loss: 0.0281 - val_accuracy: 0.9903\n",
            "Epoch 102/150\n",
            "13/13 [==============================] - 0s 4ms/step - loss: 0.0262 - accuracy: 0.9902 - val_loss: 0.0303 - val_accuracy: 0.9903\n",
            "Epoch 103/150\n",
            "13/13 [==============================] - 0s 4ms/step - loss: 0.0296 - accuracy: 0.9902 - val_loss: 0.0322 - val_accuracy: 0.9903\n",
            "Epoch 104/150\n",
            "13/13 [==============================] - 0s 6ms/step - loss: 0.0209 - accuracy: 0.9927 - val_loss: 0.0339 - val_accuracy: 0.9903\n",
            "Epoch 105/150\n",
            "13/13 [==============================] - 0s 4ms/step - loss: 0.0389 - accuracy: 0.9804 - val_loss: 0.0337 - val_accuracy: 0.9903\n",
            "Epoch 106/150\n",
            "13/13 [==============================] - 0s 5ms/step - loss: 0.0186 - accuracy: 0.9951 - val_loss: 0.0345 - val_accuracy: 0.9806\n",
            "Epoch 107/150\n",
            "13/13 [==============================] - 0s 5ms/step - loss: 0.0205 - accuracy: 0.9951 - val_loss: 0.0338 - val_accuracy: 0.9903\n",
            "Epoch 108/150\n",
            "13/13 [==============================] - 0s 6ms/step - loss: 0.0308 - accuracy: 0.9878 - val_loss: 0.0325 - val_accuracy: 0.9903\n",
            "Epoch 109/150\n",
            "13/13 [==============================] - 0s 5ms/step - loss: 0.0248 - accuracy: 0.9878 - val_loss: 0.0317 - val_accuracy: 0.9903\n",
            "Epoch 110/150\n",
            "13/13 [==============================] - 0s 4ms/step - loss: 0.0270 - accuracy: 0.9951 - val_loss: 0.0277 - val_accuracy: 0.9903\n",
            "Epoch 111/150\n",
            "13/13 [==============================] - 0s 5ms/step - loss: 0.0274 - accuracy: 0.9902 - val_loss: 0.0257 - val_accuracy: 0.9903\n",
            "Epoch 112/150\n",
            "13/13 [==============================] - 0s 5ms/step - loss: 0.0293 - accuracy: 0.9878 - val_loss: 0.0289 - val_accuracy: 0.9903\n",
            "Epoch 113/150\n",
            "13/13 [==============================] - 0s 4ms/step - loss: 0.0229 - accuracy: 0.9902 - val_loss: 0.0271 - val_accuracy: 0.9903\n",
            "Epoch 114/150\n",
            "13/13 [==============================] - 0s 5ms/step - loss: 0.0237 - accuracy: 0.9951 - val_loss: 0.0268 - val_accuracy: 0.9903\n",
            "Epoch 115/150\n",
            "13/13 [==============================] - 0s 4ms/step - loss: 0.0169 - accuracy: 0.9927 - val_loss: 0.0276 - val_accuracy: 0.9903\n",
            "Epoch 116/150\n",
            "13/13 [==============================] - 0s 4ms/step - loss: 0.0234 - accuracy: 0.9878 - val_loss: 0.0300 - val_accuracy: 0.9903\n",
            "Epoch 117/150\n",
            "13/13 [==============================] - 0s 4ms/step - loss: 0.0422 - accuracy: 0.9878 - val_loss: 0.0300 - val_accuracy: 0.9903\n",
            "Epoch 118/150\n",
            "13/13 [==============================] - 0s 5ms/step - loss: 0.0290 - accuracy: 0.9902 - val_loss: 0.0300 - val_accuracy: 0.9903\n",
            "Epoch 119/150\n",
            "13/13 [==============================] - 0s 4ms/step - loss: 0.0242 - accuracy: 0.9902 - val_loss: 0.0298 - val_accuracy: 0.9903\n",
            "Epoch 120/150\n",
            "13/13 [==============================] - 0s 4ms/step - loss: 0.0357 - accuracy: 0.9853 - val_loss: 0.0290 - val_accuracy: 0.9903\n",
            "Epoch 121/150\n",
            "13/13 [==============================] - 0s 4ms/step - loss: 0.0212 - accuracy: 0.9927 - val_loss: 0.0285 - val_accuracy: 0.9903\n",
            "Epoch 122/150\n",
            "13/13 [==============================] - 0s 6ms/step - loss: 0.0197 - accuracy: 0.9927 - val_loss: 0.0302 - val_accuracy: 0.9806\n",
            "Epoch 123/150\n",
            "13/13 [==============================] - 0s 4ms/step - loss: 0.0317 - accuracy: 0.9878 - val_loss: 0.0312 - val_accuracy: 0.9806\n",
            "Epoch 124/150\n",
            "13/13 [==============================] - 0s 6ms/step - loss: 0.0256 - accuracy: 0.9902 - val_loss: 0.0306 - val_accuracy: 0.9806\n",
            "Epoch 125/150\n",
            "13/13 [==============================] - 0s 6ms/step - loss: 0.0293 - accuracy: 0.9878 - val_loss: 0.0310 - val_accuracy: 0.9806\n",
            "Epoch 126/150\n",
            "13/13 [==============================] - 0s 4ms/step - loss: 0.0258 - accuracy: 0.9878 - val_loss: 0.0306 - val_accuracy: 0.9806\n",
            "Epoch 127/150\n",
            "13/13 [==============================] - 0s 6ms/step - loss: 0.0151 - accuracy: 0.9976 - val_loss: 0.0280 - val_accuracy: 0.9903\n",
            "Epoch 128/150\n",
            "13/13 [==============================] - 0s 6ms/step - loss: 0.0247 - accuracy: 0.9927 - val_loss: 0.0263 - val_accuracy: 0.9903\n",
            "Epoch 129/150\n",
            "13/13 [==============================] - 0s 4ms/step - loss: 0.0285 - accuracy: 0.9878 - val_loss: 0.0247 - val_accuracy: 0.9806\n",
            "Epoch 130/150\n",
            "13/13 [==============================] - 0s 4ms/step - loss: 0.0169 - accuracy: 0.9927 - val_loss: 0.0269 - val_accuracy: 0.9903\n",
            "Epoch 131/150\n",
            "13/13 [==============================] - 0s 6ms/step - loss: 0.0230 - accuracy: 0.9878 - val_loss: 0.0254 - val_accuracy: 0.9903\n",
            "Epoch 132/150\n",
            "13/13 [==============================] - 0s 5ms/step - loss: 0.0153 - accuracy: 0.9951 - val_loss: 0.0250 - val_accuracy: 0.9903\n",
            "Epoch 133/150\n",
            "13/13 [==============================] - 0s 5ms/step - loss: 0.0181 - accuracy: 0.9951 - val_loss: 0.0264 - val_accuracy: 0.9903\n",
            "Epoch 134/150\n",
            "13/13 [==============================] - 0s 4ms/step - loss: 0.0165 - accuracy: 0.9927 - val_loss: 0.0267 - val_accuracy: 0.9903\n",
            "Epoch 135/150\n",
            "13/13 [==============================] - 0s 6ms/step - loss: 0.0205 - accuracy: 0.9927 - val_loss: 0.0289 - val_accuracy: 0.9903\n",
            "Epoch 136/150\n",
            "13/13 [==============================] - 0s 5ms/step - loss: 0.0182 - accuracy: 0.9927 - val_loss: 0.0303 - val_accuracy: 0.9903\n",
            "Epoch 137/150\n",
            "13/13 [==============================] - 0s 5ms/step - loss: 0.0118 - accuracy: 1.0000 - val_loss: 0.0281 - val_accuracy: 0.9903\n",
            "Epoch 138/150\n",
            "13/13 [==============================] - 0s 5ms/step - loss: 0.0203 - accuracy: 0.9927 - val_loss: 0.0268 - val_accuracy: 0.9903\n",
            "Epoch 139/150\n",
            "13/13 [==============================] - 0s 6ms/step - loss: 0.0220 - accuracy: 0.9951 - val_loss: 0.0245 - val_accuracy: 0.9903\n",
            "Epoch 140/150\n",
            "13/13 [==============================] - 0s 4ms/step - loss: 0.0161 - accuracy: 0.9951 - val_loss: 0.0251 - val_accuracy: 0.9903\n",
            "Epoch 141/150\n",
            "13/13 [==============================] - 0s 4ms/step - loss: 0.0329 - accuracy: 0.9927 - val_loss: 0.0272 - val_accuracy: 0.9806\n",
            "Epoch 142/150\n",
            "13/13 [==============================] - 0s 5ms/step - loss: 0.0121 - accuracy: 1.0000 - val_loss: 0.0293 - val_accuracy: 0.9806\n",
            "Epoch 143/150\n",
            "13/13 [==============================] - 0s 6ms/step - loss: 0.0117 - accuracy: 0.9976 - val_loss: 0.0307 - val_accuracy: 0.9806\n",
            "Epoch 144/150\n",
            "13/13 [==============================] - 0s 6ms/step - loss: 0.0195 - accuracy: 0.9951 - val_loss: 0.0329 - val_accuracy: 0.9806\n",
            "Epoch 145/150\n",
            "13/13 [==============================] - 0s 6ms/step - loss: 0.0203 - accuracy: 0.9927 - val_loss: 0.0294 - val_accuracy: 0.9806\n",
            "Epoch 146/150\n",
            "13/13 [==============================] - 0s 6ms/step - loss: 0.0132 - accuracy: 1.0000 - val_loss: 0.0281 - val_accuracy: 0.9806\n",
            "Epoch 147/150\n",
            "13/13 [==============================] - 0s 5ms/step - loss: 0.0128 - accuracy: 0.9976 - val_loss: 0.0289 - val_accuracy: 0.9903\n",
            "Epoch 148/150\n",
            "13/13 [==============================] - 0s 6ms/step - loss: 0.0155 - accuracy: 0.9927 - val_loss: 0.0270 - val_accuracy: 0.9903\n",
            "Epoch 149/150\n",
            "13/13 [==============================] - 0s 6ms/step - loss: 0.0129 - accuracy: 0.9951 - val_loss: 0.0239 - val_accuracy: 0.9903\n",
            "Epoch 150/150\n",
            "13/13 [==============================] - 0s 4ms/step - loss: 0.0113 - accuracy: 0.9976 - val_loss: 0.0227 - val_accuracy: 0.9903\n"
          ]
        }
      ],
      "source": [
        "history = classifier.fit(x_train, y_train, batch_size=32, epochs=150,validation_split = 0.2)"
      ]
    },
    {
      "cell_type": "markdown",
      "metadata": {
        "id": "DEgWoPEATAIM"
      },
      "source": [
        "## <span style=\"color:blue\">Predicciones</span>"
      ]
    },
    {
      "cell_type": "code",
      "execution_count": null,
      "metadata": {
        "id": "27h7bTHnTAIN"
      },
      "outputs": [],
      "source": [
        "# Predicting the Test set results\n",
        "y_pred = classifier.predict(x_test)\n",
        "#y_pred = (y_pred > 0.5)\n",
        "y_pred[y_pred > 0.5] = 1\n",
        "y_pred[y_pred <=0.5] = 0"
      ]
    },
    {
      "cell_type": "markdown",
      "metadata": {
        "id": "VzZfmvBpTAIN"
      },
      "source": [
        "## <span style=\"color:blue\">Matriz de confusión</span>"
      ]
    },
    {
      "cell_type": "code",
      "execution_count": null,
      "metadata": {
        "id": "ai4sUgEeTAIN"
      },
      "outputs": [],
      "source": [
        "cm = confusion_matrix(y_test, y_pred)"
      ]
    },
    {
      "cell_type": "code",
      "execution_count": null,
      "metadata": {
        "id": "HzKOWQoaTAIO",
        "outputId": "54973910-38a5-4a9a-aa11-78787f7f01a5",
        "colab": {
          "base_uri": "https://localhost:8080/"
        }
      },
      "outputs": [
        {
          "output_type": "stream",
          "name": "stdout",
          "text": [
            "Our accuracy is 100.0%\n"
          ]
        }
      ],
      "source": [
        "print(\"Our accuracy is {}%\".format(((cm[0][0] + cm[1][1])/y_test.shape[0])*100))"
      ]
    },
    {
      "cell_type": "code",
      "execution_count": null,
      "metadata": {
        "id": "MuiDVE86TAIO",
        "outputId": "4a4ed8e5-b533-485d-a5db-24408bbd4d00",
        "colab": {
          "base_uri": "https://localhost:8080/",
          "height": 268
        }
      },
      "outputs": [
        {
          "output_type": "display_data",
          "data": {
            "text/plain": [
              "<Figure size 432x288 with 2 Axes>"
            ],
            "image/png": "[encoded data removed]"
          },
          "metadata": {
            "needs_background": "light"
          }
        }
      ],
      "source": [
        "sns.heatmap(cm,annot=True)\n",
        "plt.savefig('h.png')"
      ]
    },
    {
      "cell_type": "markdown",
      "metadata": {
        "id": "n-O3YP2eTAIO"
      },
      "source": [
        "## <span style=\"color:blue\">Evaluación del modelo</span> "
      ]
    },
    {
      "cell_type": "code",
      "execution_count": null,
      "metadata": {
        "id": "xEpwiIl-TAIP"
      },
      "outputs": [],
      "source": [
        "\n",
        "def plot_metric(history, metric):\n",
        "    train_metrics = history.history[metric]\n",
        "    val_metrics = history.history['val_'+metric]\n",
        "    epochs = range(1, len(train_metrics) + 1)\n",
        "    plt.plot(epochs, train_metrics, 'bo--')\n",
        "    plt.plot(epochs, val_metrics, 'ro-')\n",
        "    plt.title('Entrenamiento y validación '+ metric)\n",
        "    plt.xlabel(\"Epochs\")\n",
        "    plt.ylabel(metric)\n",
        "    plt.legend([\"train_\"+metric, 'val_'+metric])\n",
        "    plt.show()"
      ]
    },
    {
      "cell_type": "code",
      "execution_count": null,
      "metadata": {
        "id": "AdZW8gaATAIP",
        "outputId": "371efceb-5067-4f22-e9ed-775d063e91da",
        "colab": {
          "base_uri": "https://localhost:8080/",
          "height": 294
        }
      },
      "outputs": [
        {
          "output_type": "display_data",
          "data": {
            "text/plain": [
              "<Figure size 432x288 with 1 Axes>"
            ],
            "image/png": "[encoded data removed]"
          },
          "metadata": {
            "needs_background": "light"
          }
        }
      ],
      "source": [
        "plot_metric(history, 'loss')"
      ]
    },
    {
      "cell_type": "code",
      "execution_count": null,
      "metadata": {
        "id": "MDsUd-aeTAIP",
        "outputId": "54282007-f913-4c56-8e21-ea3a61e36f9b",
        "colab": {
          "base_uri": "https://localhost:8080/",
          "height": 294
        }
      },
      "outputs": [
        {
          "output_type": "display_data",
          "data": {
            "text/plain": [
              "<Figure size 432x288 with 1 Axes>"
            ],
            "image/png": "[encoded data removed]"
          },
          "metadata": {
            "needs_background": "light"
          }
        }
      ],
      "source": [
        "plot_metric(history, 'accuracy')"
      ]
    }
  ],
  "metadata": {
    "kernelspec": {
      "display_name": "Python 3",
      "language": "python",
      "name": "python3"
    },
    "language_info": {
      "codemirror_mode": {
        "name": "ipython",
        "version": 3
      },
      "file_extension": ".py",
      "mimetype": "text/x-python",
      "name": "python",
      "nbconvert_exporter": "python",
      "pygments_lexer": "ipython3",
      "version": "3.8.8"
    },
    "colab": {
      "name": "4. Predicción de Cáncer de seno usando subclassing en Keras.",
      "provenance": [],
      "include_colab_link": true
    }
  },
  "nbformat": 4,
  "nbformat_minor": 0
}