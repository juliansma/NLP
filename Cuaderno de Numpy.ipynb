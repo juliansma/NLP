{
  "nbformat": 4,
  "nbformat_minor": 0,
  "metadata": {
    "colab": {
      "name": "Cuaderno de Numpy.ipynb",
      "provenance": [],
      "include_colab_link": true
    },
    "kernelspec": {
      "name": "python3",
      "display_name": "Python 3"
    },
    "language_info": {
      "name": "python"
    }
  },
  "cells": [
    {
      "cell_type": "markdown",
      "metadata": {
        "id": "view-in-github",
        "colab_type": "text"
      },
      "source": [
        "<a href=\"https://colab.research.google.com/github/juliansma/NLP/blob/main/Cuaderno%20de%20Numpy.ipynb\" target=\"_parent\"><img src=\"https://colab.research.google.com/assets/colab-badge.svg\" alt=\"Open In Colab\"/></a>"
      ]
    },
    {
      "cell_type": "markdown",
      "source": [
        "# **Cuaderno de Numpy**\n"
      ],
      "metadata": {
        "id": "GI29nywyhkWa"
      }
    },
    {
      "cell_type": "code",
      "source": [
        "import numpy as np"
      ],
      "metadata": {
        "id": "NF8T93Irh1HD"
      },
      "execution_count": 2,
      "outputs": []
    },
    {
      "cell_type": "code",
      "source": [
        "a = np.array(13) # dimensión 0\n",
        "b=np.array([1,2,3,4]) #array de dimensión 1\n",
        "c=np.array([[1,2,3,4],[5,6,7,8]]) #array de dimensión 2\n",
        "d=np.array([[[1,2,3,4],[5,6,7,8]],[[9,10,11,12],[13,14,15,16]]]) #array de dimensión 3\n",
        "\n",
        "print(\"a =\",a,\"\\n\")\n",
        "print(\"b =\",b,\"\\n\")\n",
        "print(\"c =\",c,\"\\n\")\n",
        "print(\"d =\",d,\"\\n\")"
      ],
      "metadata": {
        "colab": {
          "base_uri": "https://localhost:8080/"
        },
        "id": "SXOzGLiEh6HY",
        "outputId": "2cb0c66a-1dbf-4761-8f28-39d9e175a773"
      },
      "execution_count": null,
      "outputs": [
        {
          "output_type": "stream",
          "name": "stdout",
          "text": [
            "a = 13 \n",
            "\n",
            "b = [1 2 3 4] \n",
            "\n",
            "c = [[1 2 3 4]\n",
            " [5 6 7 8]] \n",
            "\n",
            "d = [[[ 1  2  3  4]\n",
            "  [ 5  6  7  8]]\n",
            "\n",
            " [[ 9 10 11 12]\n",
            "  [13 14 15 16]]] \n",
            "\n"
          ]
        }
      ]
    },
    {
      "cell_type": "code",
      "source": [
        "print(a.ndim)\n",
        "print(b.ndim)\n",
        "print(c.ndim)\n",
        "print(d.ndim)"
      ],
      "metadata": {
        "colab": {
          "base_uri": "https://localhost:8080/"
        },
        "id": "B8bIzH9ViBhu",
        "outputId": "f46e515b-4efb-4e9c-dcb1-95a270f31965"
      },
      "execution_count": null,
      "outputs": [
        {
          "output_type": "stream",
          "name": "stdout",
          "text": [
            "0\n",
            "1\n",
            "2\n",
            "3\n"
          ]
        }
      ]
    },
    {
      "cell_type": "markdown",
      "source": [
        "#### Indexación básica"
      ],
      "metadata": {
        "id": "swsWKTvPiW68"
      }
    },
    {
      "cell_type": "code",
      "source": [
        "print(\"a =\",a)\n",
        "print(\"b[2] = \",b[2]) # elemento con índice 2 (empieza en 0)\n",
        "print(\"c[1] =\",c[1]) # primer bloque de elementos []\n",
        "print(\"d[1] =\",d[1]) # primera matriz de elementos"
      ],
      "metadata": {
        "colab": {
          "base_uri": "https://localhost:8080/"
        },
        "id": "3EHkjGiWiTLR",
        "outputId": "03584873-eba0-4949-c2e2-9f4569caea29"
      },
      "execution_count": null,
      "outputs": [
        {
          "output_type": "stream",
          "name": "stdout",
          "text": [
            "a = 13\n",
            "b[2] =  3\n",
            "c[1] = [5 6 7 8]\n",
            "d[1] = [[ 9 10 11 12]\n",
            " [13 14 15 16]]\n"
          ]
        }
      ]
    },
    {
      "cell_type": "code",
      "source": [
        "print(\"a =\",a)\n",
        "print(\"b[2] =\",b[2])\n",
        "print(\"c[1,2] =\",c[1,2]) # del primer bloque el elemento con índice 2 \n",
        "print(\"d[1,0,2] =\",d[1,0,2]) # de la matríz con índice 1, el bloque de elementos con índice 0, el elemento con índice 2"
      ],
      "metadata": {
        "colab": {
          "base_uri": "https://localhost:8080/"
        },
        "id": "af_4xcpQiwL7",
        "outputId": "9c1c2a54-c57b-4ae9-ac10-bff60767d4ff"
      },
      "execution_count": null,
      "outputs": [
        {
          "output_type": "stream",
          "name": "stdout",
          "text": [
            "a = 13\n",
            "b[2] = 3\n",
            "c[1,2] = 7\n",
            "d[1,0,2] = 11\n"
          ]
        }
      ]
    },
    {
      "cell_type": "code",
      "source": [
        "# SEGMENTAR ARRAYS COMO EN LISTAS \n",
        "\n",
        "print(b[1:4]) #b = [1 2 3 4] \n",
        "print(c[1,1:3]) #c = [[1 2 3 4][5 6 7 8]] "
      ],
      "metadata": {
        "colab": {
          "base_uri": "https://localhost:8080/"
        },
        "id": "zkNuUIumjJZf",
        "outputId": "626767f0-b135-4c31-b95e-124e3080a3ba"
      },
      "execution_count": null,
      "outputs": [
        {
          "output_type": "stream",
          "name": "stdout",
          "text": [
            "[2 3 4]\n",
            "[6 7]\n"
          ]
        }
      ]
    },
    {
      "cell_type": "markdown",
      "source": [
        "#### Diferentes tipos de datos en los arrays\n"
      ],
      "metadata": {
        "id": "NxVkaRgujUvj"
      }
    },
    {
      "cell_type": "code",
      "source": [
        "verduras = np.array(['Zanahoria','Tomate','Cebolla']) #cadenas\n",
        "print(verduras.dtype)"
      ],
      "metadata": {
        "colab": {
          "base_uri": "https://localhost:8080/",
          "height": 190
        },
        "id": "lYA18r_NjRJj",
        "outputId": "c0b4613b-7bde-453c-87f4-99c27097b6dd"
      },
      "execution_count": 1,
      "outputs": [
        {
          "output_type": "error",
          "ename": "NameError",
          "evalue": "ignored",
          "traceback": [
            "\u001b[0;31m---------------------------------------------------------------------------\u001b[0m",
            "\u001b[0;31mNameError\u001b[0m                                 Traceback (most recent call last)",
            "\u001b[0;32m<ipython-input-1-06bcaeb55d55>\u001b[0m in \u001b[0;36m<module>\u001b[0;34m()\u001b[0m\n\u001b[0;32m----> 1\u001b[0;31m \u001b[0mverduras\u001b[0m \u001b[0;34m=\u001b[0m \u001b[0mnp\u001b[0m\u001b[0;34m.\u001b[0m\u001b[0marray\u001b[0m\u001b[0;34m(\u001b[0m\u001b[0;34m[\u001b[0m\u001b[0;34m'Zanahoria'\u001b[0m\u001b[0;34m,\u001b[0m\u001b[0;34m'Tomate'\u001b[0m\u001b[0;34m,\u001b[0m\u001b[0;34m'Cebolla'\u001b[0m\u001b[0;34m]\u001b[0m\u001b[0;34m)\u001b[0m \u001b[0;31m#cadenas\u001b[0m\u001b[0;34m\u001b[0m\u001b[0;34m\u001b[0m\u001b[0m\n\u001b[0m\u001b[1;32m      2\u001b[0m \u001b[0mprint\u001b[0m\u001b[0;34m(\u001b[0m\u001b[0mverduras\u001b[0m\u001b[0;34m.\u001b[0m\u001b[0mdtype\u001b[0m\u001b[0;34m)\u001b[0m\u001b[0;34m\u001b[0m\u001b[0;34m\u001b[0m\u001b[0m\n",
            "\u001b[0;31mNameError\u001b[0m: name 'np' is not defined"
          ]
        }
      ]
    },
    {
      "cell_type": "code",
      "source": [
        "# Se puede pasar de número a string pero no al revés \n",
        "number_to_string=np.array([6,1,2,4,623,8], dtype='S') #b denota un string\n",
        "print(number_to_string.dtype)\n",
        "print(number_to_string)"
      ],
      "metadata": {
        "colab": {
          "base_uri": "https://localhost:8080/"
        },
        "id": "qixQ12XDj_68",
        "outputId": "429fc436-fdf2-46c2-ab5e-ba0c3a9550b8"
      },
      "execution_count": null,
      "outputs": [
        {
          "output_type": "stream",
          "name": "stdout",
          "text": [
            "|S3\n",
            "[b'6' b'1' b'2' b'4' b'623' b'8']\n"
          ]
        }
      ]
    },
    {
      "cell_type": "code",
      "source": [
        "try:\n",
        "    error_array = np.array(['a', '2', '3'], dtype='i') # no tiene sentido que \"a\" sea entero\n",
        "except:\n",
        "    print(\"hay un error en su lógica\")"
      ],
      "metadata": {
        "colab": {
          "base_uri": "https://localhost:8080/"
        },
        "id": "TTkSxDYpkOQ4",
        "outputId": "e5604bcb-e628-4097-c396-c192bc5575df"
      },
      "execution_count": null,
      "outputs": [
        {
          "output_type": "stream",
          "name": "stdout",
          "text": [
            "hay un error en su lógica\n"
          ]
        }
      ]
    },
    {
      "cell_type": "code",
      "source": [
        "try:\n",
        "    no_error_array = np.array(['2', '3'], dtype='i') \n",
        "except:\n",
        "    print(\"hay un error en su lógica\")\n",
        "\n",
        "print(no_error_array)    "
      ],
      "metadata": {
        "colab": {
          "base_uri": "https://localhost:8080/"
        },
        "id": "uUW78FK_kXYL",
        "outputId": "6e73ea36-428a-4fd5-d8f5-8f1ea1eafe4a"
      },
      "execution_count": null,
      "outputs": [
        {
          "output_type": "stream",
          "name": "stdout",
          "text": [
            "[2 3]\n"
          ]
        }
      ]
    },
    {
      "cell_type": "markdown",
      "source": [
        "#### Forma de los arrays\n",
        "Número de elementos de la dimensión"
      ],
      "metadata": {
        "id": "W1M0Sy0Ikka0"
      }
    },
    {
      "cell_type": "code",
      "source": [
        "print(a.shape) # a = 13 \n",
        "print(b.shape) # b = [1 2 3 4] \n",
        "print(c.shape) # c = [[1 2 3 4][5 6 7 8]] \n",
        "print(d.shape) # d = [[[ 1  2  3  4][ 5  6  7  8]] [[ 9 10 11 12][13 14 15 16]]] "
      ],
      "metadata": {
        "colab": {
          "base_uri": "https://localhost:8080/"
        },
        "id": "Z7Mj7pLxkZtT",
        "outputId": "f79672de-d175-424e-ebcd-c47b9fd026cd"
      },
      "execution_count": null,
      "outputs": [
        {
          "output_type": "stream",
          "name": "stdout",
          "text": [
            "()\n",
            "(4,)\n",
            "(2, 4)\n",
            "(2, 2, 4)\n"
          ]
        }
      ]
    },
    {
      "cell_type": "markdown",
      "source": [
        "Podemos cambiar el número de dimensiones o cambair cuántos elementos hay por dimensión (forma)."
      ],
      "metadata": {
        "id": "Qs2y-gzMlEiF"
      }
    },
    {
      "cell_type": "code",
      "source": [
        "# OBJETO.RESHAPE()\n",
        "\n",
        "print(\"c =\",c,\"\\n\") # 4 elementos x 2 dimensiones\n",
        "c_1D=c.reshape(1,8)\n",
        "print(\"c_1D =\",c_1D,\"\\n\") # 8 elementos x 1 dimensión\n",
        "c_4D=c.reshape(4,2)\n",
        "print(\"c_4D =\",c_4D,\"\\n\") # 2 elementos x 4 dimensiones"
      ],
      "metadata": {
        "colab": {
          "base_uri": "https://localhost:8080/"
        },
        "id": "M_-FB6-9lApS",
        "outputId": "ab38619c-b23c-4767-cab3-804c2452a80c"
      },
      "execution_count": null,
      "outputs": [
        {
          "output_type": "stream",
          "name": "stdout",
          "text": [
            "c = [[1 2 3 4]\n",
            " [5 6 7 8]] \n",
            "\n",
            "c_1D = [[1 2 3 4 5 6 7 8]] \n",
            "\n",
            "c_4D = [[1 2]\n",
            " [3 4]\n",
            " [5 6]\n",
            " [7 8]] \n",
            "\n"
          ]
        }
      ]
    },
    {
      "cell_type": "code",
      "source": [
        "# Como d tiene 16 elementos, se tiene que re ordenar de tal manera que tenga 16 elementos (2 dim 8 elementos x c/u; 4 dim 4 elementos x c/u; 8 dim 2 elementos x c/u)\n",
        "try:\n",
        "    d.reshape(3,5)\n",
        "except:\n",
        "    print('Hay un error en sus operaciones')"
      ],
      "metadata": {
        "colab": {
          "base_uri": "https://localhost:8080/"
        },
        "id": "8VIw_oSqllGo",
        "outputId": "a6396007-174a-48f5-8c8c-ffd69b1162a6"
      },
      "execution_count": null,
      "outputs": [
        {
          "output_type": "stream",
          "name": "stdout",
          "text": [
            "Hay un error en sus operaciones\n"
          ]
        }
      ]
    },
    {
      "cell_type": "code",
      "source": [
        "d.reshape(2,2,2,2)"
      ],
      "metadata": {
        "colab": {
          "base_uri": "https://localhost:8080/"
        },
        "id": "xGutnO99nzEW",
        "outputId": "47b8909e-3f34-4cde-f6c5-070a358cbb89"
      },
      "execution_count": null,
      "outputs": [
        {
          "output_type": "execute_result",
          "data": {
            "text/plain": [
              "array([[[[ 1,  2],\n",
              "         [ 3,  4]],\n",
              "\n",
              "        [[ 5,  6],\n",
              "         [ 7,  8]]],\n",
              "\n",
              "\n",
              "       [[[ 9, 10],\n",
              "         [11, 12]],\n",
              "\n",
              "        [[13, 14],\n",
              "         [15, 16]]]])"
            ]
          },
          "metadata": {},
          "execution_count": 15
        }
      ]
    },
    {
      "cell_type": "markdown",
      "source": [
        "#### Dimensión desconocida"
      ],
      "metadata": {
        "id": "v5WUrKKvo4y0"
      }
    },
    {
      "cell_type": "code",
      "source": [
        "arr = np.array([1, 2, 3, 4, 5, 6, 7, 8, 9])\n",
        "arr.reshape(3,-1)"
      ],
      "metadata": {
        "colab": {
          "base_uri": "https://localhost:8080/"
        },
        "id": "zivOIX2Hn1fm",
        "outputId": "f632f2ea-938b-45ed-b9af-53a2d489d3e7"
      },
      "execution_count": 3,
      "outputs": [
        {
          "output_type": "execute_result",
          "data": {
            "text/plain": [
              "array([[1, 2, 3],\n",
              "       [4, 5, 6],\n",
              "       [7, 8, 9]])"
            ]
          },
          "metadata": {},
          "execution_count": 3
        }
      ]
    },
    {
      "cell_type": "code",
      "source": [
        "# APLANAR CUALQUIER ARRAY A UNA DIMENSIÓN\n",
        "\n",
        "arr.reshape(-1)"
      ],
      "metadata": {
        "colab": {
          "base_uri": "https://localhost:8080/"
        },
        "id": "ESsTLUWko8h0",
        "outputId": "cf5be622-7b1d-4533-92f5-895936d97af0"
      },
      "execution_count": 5,
      "outputs": [
        {
          "output_type": "execute_result",
          "data": {
            "text/plain": [
              "array([1, 2, 3, 4, 5, 6, 7, 8, 9])"
            ]
          },
          "metadata": {},
          "execution_count": 5
        }
      ]
    },
    {
      "cell_type": "markdown",
      "source": [
        "#### Transpuesta"
      ],
      "metadata": {
        "id": "auONG6NXpHiM"
      }
    },
    {
      "cell_type": "code",
      "source": [
        "# OBJETO.T\n",
        "\n",
        "print(\"c =\",c,\"\\n\")\n",
        "print(\"c.T =\",c.T)"
      ],
      "metadata": {
        "colab": {
          "base_uri": "https://localhost:8080/"
        },
        "id": "m9An5hr0pD3J",
        "outputId": "3441650f-37a5-4ef9-c19f-310977ab2cb6"
      },
      "execution_count": null,
      "outputs": [
        {
          "output_type": "stream",
          "name": "stdout",
          "text": [
            "c = [[1 2 3 4]\n",
            " [5 6 7 8]] \n",
            "\n",
            "c.T = [[1 5]\n",
            " [2 6]\n",
            " [3 7]\n",
            " [4 8]]\n"
          ]
        }
      ]
    },
    {
      "cell_type": "markdown",
      "source": [
        "#### Iterar Arrays"
      ],
      "metadata": {
        "id": "ex2iElxQpSpV"
      }
    },
    {
      "cell_type": "code",
      "source": [
        "print(\"d=\",d,\"\\n\")"
      ],
      "metadata": {
        "colab": {
          "base_uri": "https://localhost:8080/"
        },
        "id": "5qa7b-j7pG3r",
        "outputId": "952a1ba5-1a7e-408f-b80a-416dd00fa0e6"
      },
      "execution_count": null,
      "outputs": [
        {
          "output_type": "stream",
          "name": "stdout",
          "text": [
            "d= [[[ 1  2  3  4]\n",
            "  [ 5  6  7  8]]\n",
            "\n",
            " [[ 9 10 11 12]\n",
            "  [13 14 15 16]]] \n",
            "\n"
          ]
        }
      ]
    },
    {
      "cell_type": "code",
      "source": [
        "for x in d:\n",
        "    print(x)"
      ],
      "metadata": {
        "colab": {
          "base_uri": "https://localhost:8080/"
        },
        "id": "XlcmRsZIpj-Z",
        "outputId": "94290e44-bf54-4f0c-b3de-18f5172c2015"
      },
      "execution_count": null,
      "outputs": [
        {
          "output_type": "stream",
          "name": "stdout",
          "text": [
            "[[1 2 3 4]\n",
            " [5 6 7 8]]\n",
            "[[ 9 10 11 12]\n",
            " [13 14 15 16]]\n"
          ]
        }
      ]
    },
    {
      "cell_type": "code",
      "source": [
        "# Se necesita un for para cada dimensión \n",
        "for x in d:\n",
        "    for y in x:\n",
        "        for z in y:\n",
        "            print(z)"
      ],
      "metadata": {
        "colab": {
          "base_uri": "https://localhost:8080/"
        },
        "id": "NAZpWSCVprzd",
        "outputId": "721e073a-0bbd-4680-e646-4b92674e06a9"
      },
      "execution_count": null,
      "outputs": [
        {
          "output_type": "stream",
          "name": "stdout",
          "text": [
            "1\n",
            "2\n",
            "3\n",
            "4\n",
            "5\n",
            "6\n",
            "7\n",
            "8\n",
            "9\n",
            "10\n",
            "11\n",
            "12\n",
            "13\n",
            "14\n",
            "15\n",
            "16\n"
          ]
        }
      ]
    },
    {
      "cell_type": "code",
      "source": [
        "# mditer --> haer la anterior iteración de una forma más óptima\n",
        "for x in np.nditer(d):\n",
        "    print(x)"
      ],
      "metadata": {
        "colab": {
          "base_uri": "https://localhost:8080/"
        },
        "id": "tfC-9GBmpwmZ",
        "outputId": "aee9b9a8-ad2d-41a8-b6b4-e19037f270ba"
      },
      "execution_count": null,
      "outputs": [
        {
          "output_type": "stream",
          "name": "stdout",
          "text": [
            "1\n",
            "2\n",
            "3\n",
            "4\n",
            "5\n",
            "6\n",
            "7\n",
            "8\n",
            "9\n",
            "10\n",
            "11\n",
            "12\n",
            "13\n",
            "14\n",
            "15\n",
            "16\n"
          ]
        }
      ]
    },
    {
      "cell_type": "markdown",
      "source": [
        "## *Operaciones entre arrays*"
      ],
      "metadata": {
        "id": "7LGowRueqBMI"
      }
    },
    {
      "cell_type": "markdown",
      "source": [
        "#### Suma\n",
        "\n",
        "*   np.add --> entre argumentos de dos arrays (con la misma forma)\n",
        "*   np.sum --> hace la suma de n elementos\n"
      ],
      "metadata": {
        "id": "WlJZSkI0qF52"
      }
    },
    {
      "cell_type": "code",
      "source": [
        "arr1=np.array([[1,2,3],\n",
        "               [4,5,6]])\n",
        "arr2=np.array([[6,5,4],\n",
        "               [3,2,1]])\n",
        "print(np.add(arr1,arr2))\n",
        "np.sum(arr1)"
      ],
      "metadata": {
        "colab": {
          "base_uri": "https://localhost:8080/"
        },
        "id": "FztWvIDip8Z7",
        "outputId": "64b07d6f-d318-40ca-d6d8-b71ae4314aca"
      },
      "execution_count": null,
      "outputs": [
        {
          "output_type": "stream",
          "name": "stdout",
          "text": [
            "[[7 7 7]\n",
            " [7 7 7]]\n"
          ]
        },
        {
          "output_type": "execute_result",
          "data": {
            "text/plain": [
              "21"
            ]
          },
          "metadata": {},
          "execution_count": 23
        }
      ]
    },
    {
      "cell_type": "code",
      "source": [
        "arr3=np.array([[1,1,1],[1,1,1]])\n",
        "print(np.sum([arr1,arr2]))\n",
        "print(np.sum([arr1,arr2,arr3]))"
      ],
      "metadata": {
        "colab": {
          "base_uri": "https://localhost:8080/"
        },
        "id": "inQXXKO4rDrC",
        "outputId": "b041ff4e-57ea-432b-93de-19fe661e622c"
      },
      "execution_count": null,
      "outputs": [
        {
          "output_type": "stream",
          "name": "stdout",
          "text": [
            "42\n",
            "48\n"
          ]
        }
      ]
    },
    {
      "cell_type": "markdown",
      "source": [
        "np.sum en el eje 0 aplica lo mismo que np.add"
      ],
      "metadata": {
        "id": "RLLbqJVfrRR4"
      }
    },
    {
      "cell_type": "code",
      "source": [
        "np.sum([arr1,arr2, arr3],axis=0)"
      ],
      "metadata": {
        "colab": {
          "base_uri": "https://localhost:8080/"
        },
        "id": "gZmSqB-TrHBx",
        "outputId": "d2d1632d-36ba-455d-c4ea-b8f90ffbc989"
      },
      "execution_count": null,
      "outputs": [
        {
          "output_type": "execute_result",
          "data": {
            "text/plain": [
              "array([[8, 8, 8],\n",
              "       [8, 8, 8]])"
            ]
          },
          "metadata": {},
          "execution_count": 25
        }
      ]
    },
    {
      "cell_type": "code",
      "source": [
        "np.sum([arr1,arr2, arr3],axis=1)"
      ],
      "metadata": {
        "colab": {
          "base_uri": "https://localhost:8080/"
        },
        "id": "GmC0h7OOrV66",
        "outputId": "b9d341fa-35e0-4949-b626-75f47c788560"
      },
      "execution_count": null,
      "outputs": [
        {
          "output_type": "execute_result",
          "data": {
            "text/plain": [
              "array([[5, 7, 9],\n",
              "       [9, 7, 5],\n",
              "       [2, 2, 2]])"
            ]
          },
          "metadata": {},
          "execution_count": 26
        }
      ]
    },
    {
      "cell_type": "markdown",
      "source": [
        "#### Multiplicación\n",
        "np.prod es similar a np.sum"
      ],
      "metadata": {
        "id": "2zHfsEMPraz4"
      }
    },
    {
      "cell_type": "code",
      "source": [
        "print(\"arr1=\\n\",arr1,\"\\n\")\n",
        "print(\"arr2=\\n\",arr2,\"\\n\")\n",
        "print(np.prod([arr1,arr2]),\"\\n\")\n",
        "print(np.prod([arr1,arr2],axis=0),\"\\n\")\n",
        "print(np.prod([arr1,arr2],axis=1))"
      ],
      "metadata": {
        "colab": {
          "base_uri": "https://localhost:8080/"
        },
        "id": "KAXXfkeRrc39",
        "outputId": "6d8bdecb-3b48-46e6-9c17-4f6138d0c72d"
      },
      "execution_count": null,
      "outputs": [
        {
          "output_type": "stream",
          "name": "stdout",
          "text": [
            "arr1=\n",
            " [[1 2 3]\n",
            " [4 5 6]] \n",
            "\n",
            "arr2=\n",
            " [[6 5 4]\n",
            " [3 2 1]] \n",
            "\n",
            "518400 \n",
            "\n",
            "[[ 6 10 12]\n",
            " [12 10  6]] \n",
            "\n",
            "[[ 4 10 18]\n",
            " [18 10  4]]\n"
          ]
        }
      ]
    },
    {
      "cell_type": "markdown",
      "source": [
        "#### Multiplicación matricial"
      ],
      "metadata": {
        "id": "zjTdqyx3tWHY"
      }
    },
    {
      "cell_type": "code",
      "source": [
        "np.matmul(arr1, arr2.T) # Multiplicación de matrices normal"
      ],
      "metadata": {
        "colab": {
          "base_uri": "https://localhost:8080/"
        },
        "id": "B65QUtAKtVwm",
        "outputId": "6281f8ae-1407-49a0-a06f-be6c7fa4f3f6"
      },
      "execution_count": null,
      "outputs": [
        {
          "output_type": "execute_result",
          "data": {
            "text/plain": [
              "array([[28, 10],\n",
              "       [73, 28]])"
            ]
          },
          "metadata": {},
          "execution_count": 28
        }
      ]
    },
    {
      "cell_type": "code",
      "source": [
        "np.dot(arr1, arr2.T) # Multiplicación de matrices normal (solo para dim 2)"
      ],
      "metadata": {
        "colab": {
          "base_uri": "https://localhost:8080/"
        },
        "id": "h_MLYR8ttVDj",
        "outputId": "43891984-0c85-4ebd-891e-7493c6a90ca4"
      },
      "execution_count": null,
      "outputs": [
        {
          "output_type": "execute_result",
          "data": {
            "text/plain": [
              "array([[28, 10],\n",
              "       [73, 28]])"
            ]
          },
          "metadata": {},
          "execution_count": 29
        }
      ]
    },
    {
      "cell_type": "code",
      "source": [
        "print(\"d =\\n\",d,\"\\n\") #2,2,4\n",
        "print(\"d.reshape =\\n\",d.reshape(2,4,2),\"\\n\") #2,4,2\n",
        "np.dot(d,d.reshape(2,4,2)) #2,2,2,2"
      ],
      "metadata": {
        "colab": {
          "base_uri": "https://localhost:8080/"
        },
        "id": "87ChF2KBt1lL",
        "outputId": "73857ec7-8f97-4b1b-ef71-a74588654959"
      },
      "execution_count": null,
      "outputs": [
        {
          "output_type": "stream",
          "name": "stdout",
          "text": [
            "d =\n",
            " [[[ 1  2  3  4]\n",
            "  [ 5  6  7  8]]\n",
            "\n",
            " [[ 9 10 11 12]\n",
            "  [13 14 15 16]]] \n",
            "\n",
            "d.reshape =\n",
            " [[[ 1  2]\n",
            "  [ 3  4]\n",
            "  [ 5  6]\n",
            "  [ 7  8]]\n",
            "\n",
            " [[ 9 10]\n",
            "  [11 12]\n",
            "  [13 14]\n",
            "  [15 16]]] \n",
            "\n"
          ]
        },
        {
          "output_type": "execute_result",
          "data": {
            "text/plain": [
              "array([[[[ 50,  60],\n",
              "         [130, 140]],\n",
              "\n",
              "        [[114, 140],\n",
              "         [322, 348]]],\n",
              "\n",
              "\n",
              "       [[[178, 220],\n",
              "         [514, 556]],\n",
              "\n",
              "        [[242, 300],\n",
              "         [706, 764]]]])"
            ]
          },
          "metadata": {},
          "execution_count": 30
        }
      ]
    },
    {
      "cell_type": "code",
      "source": [
        "print(np.dot(d[0],d.reshape(2,4,2)[0]),\"\\n\")\n",
        "print(np.dot(d[0],d.reshape(2,4,2)[1]),\"\\n\")\n",
        "print(np.dot(d[1],d.reshape(2,4,2)[0]),\"\\n\")\n",
        "print(np.dot(d[1],d.reshape(2,4,2)[1]),\"\\n\")"
      ],
      "metadata": {
        "colab": {
          "base_uri": "https://localhost:8080/"
        },
        "id": "QZiODXDUCzxl",
        "outputId": "a08305ac-652f-435a-8cdb-d9fc8dba22de"
      },
      "execution_count": null,
      "outputs": [
        {
          "output_type": "stream",
          "name": "stdout",
          "text": [
            "[[ 50  60]\n",
            " [114 140]] \n",
            "\n",
            "[[130 140]\n",
            " [322 348]] \n",
            "\n",
            "[[178 220]\n",
            " [242 300]] \n",
            "\n",
            "[[514 556]\n",
            " [706 764]] \n",
            "\n"
          ]
        }
      ]
    },
    {
      "cell_type": "markdown",
      "source": [
        "*   Matmul hace las multiplicaciones matriz a matriz (matrices como elementos)\n",
        "*   dot toma los números dentro de las matrices como elementos. \n",
        "\n"
      ],
      "metadata": {
        "id": "HkMs3SYvDVpj"
      }
    },
    {
      "cell_type": "code",
      "source": [
        "np.matmul(d,d.reshape(2,4,2))"
      ],
      "metadata": {
        "colab": {
          "base_uri": "https://localhost:8080/"
        },
        "id": "b3pU8H1fC346",
        "outputId": "84fc2bf0-c861-4057-d5b7-b1e332d86d56"
      },
      "execution_count": null,
      "outputs": [
        {
          "output_type": "execute_result",
          "data": {
            "text/plain": [
              "array([[[ 50,  60],\n",
              "        [114, 140]],\n",
              "\n",
              "       [[514, 556],\n",
              "        [706, 764]]])"
            ]
          },
          "metadata": {},
          "execution_count": 33
        }
      ]
    },
    {
      "cell_type": "markdown",
      "source": [
        "#### Máximo, mínimo, aleatorio"
      ],
      "metadata": {
        "id": "Liz8Fr_VEZoA"
      }
    },
    {
      "cell_type": "code",
      "source": [
        "print(\"d =\\n\",d,\"\\n\") #2,2,4\n",
        "print(\"max_1=\",d.max(axis=1),\"\\n\")\n",
        "print(\"max_0=\",d.max(axis=0),\"\\n\")"
      ],
      "metadata": {
        "colab": {
          "base_uri": "https://localhost:8080/"
        },
        "id": "QjRkHZ3yEj3i",
        "outputId": "1143c3ec-3e85-485f-ac77-fa3b9587de37"
      },
      "execution_count": null,
      "outputs": [
        {
          "output_type": "stream",
          "name": "stdout",
          "text": [
            "d =\n",
            " [[[ 1  2  3  4]\n",
            "  [ 5  6  7  8]]\n",
            "\n",
            " [[ 9 10 11 12]\n",
            "  [13 14 15 16]]] \n",
            "\n",
            "max= [[ 5  6  7  8]\n",
            " [13 14 15 16]] \n",
            "\n",
            "max= [[ 9 10 11 12]\n",
            " [13 14 15 16]] \n",
            "\n"
          ]
        }
      ]
    }
  ]
}